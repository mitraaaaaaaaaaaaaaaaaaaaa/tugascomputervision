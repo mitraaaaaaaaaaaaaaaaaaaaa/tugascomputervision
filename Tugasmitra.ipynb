{
 "cells": [
  {
   "cell_type": "code",
   "execution_count": 2,
   "id": "ebfe7123-4773-4ad7-a0fb-bdae00436030",
   "metadata": {},
   "outputs": [],
   "source": [
    "import numpy as np\n",
    "import cv2\n",
    "\n",
    "# Ukuran bendera (rasio 4:5)\n",
    "height = 200\n",
    "width = 250\n",
    "\n",
    "# Warna dalam format BGR\n",
    "white = (255, 255, 255)  # Putih\n",
    "red = (0, 0, 255)        # Merah\n",
    "\n",
    "# Membuat latar belakang putih\n",
    "flag = np.zeros((height, width, 3), dtype=np.uint8)\n",
    "\n",
    "# Menggambar dua garis horizontal\n",
    "stripe_height = height // 2\n",
    "flag[:stripe_height, :] = red  # Bagian atas merah\n",
    "flag[stripe_height:, :] = white  # Bagian bawah putih\n",
    "\n",
    "# Menampilkan bendera Monaco\n",
    "cv2.imshow(\"Bendera Monaco\", flag)\n",
    "cv2.waitKey(0)\n",
    "cv2.destroyAllWindows()\n"
   ]
  },
  {
   "cell_type": "code",
   "execution_count": null,
   "id": "17c7b7e8-b4df-4945-b868-519187db4152",
   "metadata": {},
   "outputs": [],
   "source": []
  }
 ],
 "metadata": {
  "kernelspec": {
   "display_name": "Python 3 (ipykernel)",
   "language": "python",
   "name": "python3"
  },
  "language_info": {
   "codemirror_mode": {
    "name": "ipython",
    "version": 3
   },
   "file_extension": ".py",
   "mimetype": "text/x-python",
   "name": "python",
   "nbconvert_exporter": "python",
   "pygments_lexer": "ipython3",
   "version": "3.10.11"
  }
 },
 "nbformat": 4,
 "nbformat_minor": 5
}
